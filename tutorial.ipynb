{
 "cells": [
  {
   "cell_type": "code",
   "execution_count": 1,
   "metadata": {},
   "outputs": [],
   "source": [
    "import torch\n",
    "from torch.utils.data import Dataset, DataLoader\n",
    "from torchvision import datasets\n",
    "from torchvision.transforms import ToTensor"
   ]
  },
  {
   "cell_type": "markdown",
   "metadata": {},
   "source": [
    "### Dataset & DataLoader"
   ]
  },
  {
   "cell_type": "code",
   "execution_count": null,
   "metadata": {},
   "outputs": [],
   "source": [
    "# Image Dataset\n",
    "training_data = datasets.MNIST(\n",
    "    root='../dataset/',\n",
    "    train=True,\n",
    "    download=True,\n",
    "    transform=ToTensor()\n",
    ")\n",
    "\n",
    "testing_data = datasets.MNIST(\n",
    "    root='../dataset/',\n",
    "    train=False,\n",
    "    download=True,\n",
    "    transform=ToTensor()\n",
    ")"
   ]
  },
  {
   "cell_type": "code",
   "execution_count": null,
   "metadata": {},
   "outputs": [],
   "source": [
    "import matplotlib.pyplot as plt\n",
    "\n",
    "img, label = training_data[0]\n",
    "plt.imshow(img.squeeze().numpy(), cmap=\"gray\")\n",
    "plt.show()"
   ]
  },
  {
   "cell_type": "code",
   "execution_count": null,
   "metadata": {},
   "outputs": [],
   "source": [
    "# Custom Dataset\n",
    "class CustomDataset(Dataset):\n",
    "    def __init__(self, data_dir, labels, transform=None, target_transform=None) -> None:\n",
    "        self.data = data_dir\n",
    "        self.labels = labels\n",
    "        self.transform = transform\n",
    "        self.target_transform = target_transform\n",
    "\n",
    "    def __len__(self):\n",
    "        \"\"\"Return the number of samples in the custom dataset.\"\"\"\n",
    "        return len(self.labels)\n",
    "\n",
    "    def __getitem__(self, idx):\n",
    "        \"\"\"Loda and return a data sample from the custom dataset at given index.\"\"\"\n",
    "        data = self.data[idx]\n",
    "        label = self.labels[idx]\n",
    "\n",
    "        if self.transform:\n",
    "            data = self.transform(data)\n",
    "        if self.target_transform:\n",
    "            label = self.target_transform(label)\n",
    "        return data, label"
   ]
  },
  {
   "cell_type": "code",
   "execution_count": null,
   "metadata": {},
   "outputs": [],
   "source": [
    "# We can load the train and test dataset into dataloaders \n",
    "# so that we can retrive data samples and interate through \n",
    "# the dataset in a batch/mini-batch manner. \n",
    "train_loader = DataLoader(training_data, batch_size=128, shuffle=True)\n",
    "test_loader = DataLoader(testing_data, batch_size=128, shuffle=True)"
   ]
  },
  {
   "cell_type": "markdown",
   "metadata": {},
   "source": [
    "### Model"
   ]
  },
  {
   "cell_type": "code",
   "execution_count": null,
   "metadata": {},
   "outputs": [],
   "source": [
    "from torch import nn\n",
    "import torch.nn.functional as F"
   ]
  },
  {
   "cell_type": "code",
   "execution_count": null,
   "metadata": {},
   "outputs": [],
   "source": [
    "class CNN(nn.Module):\n",
    "    def __init__(self):\n",
    "        super(CNN, self).__init__()\n",
    "        self.conv = nn.Sequential(\n",
    "            nn.Conv2d(in_channels=1, out_channels=32, kernel_size=(3,3), stride=(1,1)),\n",
    "            nn.BatchNorm2d(32),\n",
    "            nn.ReLU(), \n",
    "            nn.Conv2d(in_channels=32, out_channels=64, kernel_size=(3,3), stride=(1,1)),\n",
    "            nn.BatchNorm2d(64),\n",
    "            nn.ReLU()\n",
    "        )\n",
    "        self.dp1 = nn.Dropout2d(0.25)\n",
    "        self.dp2 = nn.Dropout2d(0.5)\n",
    "        self.fc1 = nn.Linear(9216, 128)\n",
    "        self.fc2 = nn.Linear(128, 10)\n",
    "\n",
    "    def forward(self, x):\n",
    "        x = self.conv(x)\n",
    "        x = F.max_pool2d(x, 2)\n",
    "\n",
    "        x = self.dp1(x)\n",
    "        x = torch.flatten(x, 1)\n",
    "\n",
    "        x = self.fc1(x)\n",
    "        x = F.relu(x)\n",
    "        x = self.dp2(x)\n",
    "        x = self.fc2(x)\n",
    "        return x "
   ]
  },
  {
   "cell_type": "markdown",
   "metadata": {},
   "source": [
    "### Trainval"
   ]
  },
  {
   "cell_type": "code",
   "execution_count": null,
   "metadata": {},
   "outputs": [],
   "source": [
    "## Enable GPU via cuda\n",
    "device = 'cuda' if torch.cuda.is_available() else 'cpu'\n",
    "\n",
    "def build_model(nn):\n",
    "    model = nn\n",
    "    model.to(torch.device(device))\n",
    "\n",
    "    criterion = torch.nn.CrossEntropyLoss()\n",
    "    optimizer = torch.optim.SGD(model.parameters(), lr=0.01)\n",
    "\n",
    "    return model, criterion, optimizer\n",
    "\n",
    "\n",
    "def train(loader, model, criterion, optimizer):\n",
    "    model.train()\n",
    "    training_loss = 0.0\n",
    "    for idx, data in enumerate(loader):\n",
    "        optimizer.zero_grad()    # Clear gradients\n",
    "\n",
    "        x = data[0].to(torch.device(device))\n",
    "        y = data[1].to(torch.device(device))\n",
    "        \n",
    "        logits = model(x)             # Feedforward\n",
    "        loss = criterion(logits, y)   # Compute gradients\n",
    "\n",
    "        loss.backward()          # Backward pass\n",
    "        optimizer.step()         # Update model parametersss\n",
    "\n",
    "        training_loss += loss.item()\n",
    "    return training_loss\n",
    "\n",
    "\n",
    "@torch.no_grad()\n",
    "def validation(loader, model, criterion):\n",
    "    model.eval()\n",
    "    for idx, data in enumerate(loader):\n",
    "        x = data[0].to(torch.device(device))\n",
    "        y = data[1].to(torch.device(device))\n",
    "\n",
    "        logits = model(x)\n",
    "        loss = criterion(logits, y)  \n"
   ]
  },
  {
   "cell_type": "code",
   "execution_count": null,
   "metadata": {},
   "outputs": [],
   "source": [
    "from torch.utils.tensorboard import SummaryWriter\n",
    "\n",
    "EPOCH = 20\n",
    "model, criterion, optimizer = build_model(CNN())\n",
    "writer = SummaryWriter('experiment/mnist_cnn')\n",
    "for epoch in range(1, EPOCH+1):\n",
    "    # Training & Validation\n",
    "    cumulative_loss = train(train_loader, model, criterion, optimizer)\n",
    "    writer.add_scalar('training_loss at each epoch', \n",
    "                       cumulative_loss / len(train_loader), \n",
    "                       epoch)\n",
    "    validation(test_loader, model, criterion)"
   ]
  },
  {
   "cell_type": "markdown",
   "metadata": {},
   "source": [
    "### Point Clouds Data Processing"
   ]
  },
  {
   "cell_type": "code",
   "execution_count": 2,
   "metadata": {},
   "outputs": [
    {
     "name": "stdout",
     "output_type": "stream",
     "text": [
      "Data(x=[2252, 3], y=[2252], pos=[2252, 3], category=[1])\n"
     ]
    }
   ],
   "source": [
    "from torch_geometric.datasets import ShapeNet\n",
    "# Loda shapenet dataset\n",
    "point_clouds = ShapeNet(root='../dataset/shapenet', split='trainval')\n",
    "# Data information\n",
    "print(point_clouds[0])"
   ]
  },
  {
   "cell_type": "code",
   "execution_count": 14,
   "metadata": {},
   "outputs": [
    {
     "data": {},
     "metadata": {},
     "output_type": "display_data"
    },
    {
     "data": {
      "text/html": [
       "<div id='1028'>\n",
       "\n",
       "\n",
       "\n",
       "\n",
       "\n",
       "  <div class=\"bk-root\" id=\"cc12f1fa-2987-4758-ae3d-b07c9a12a20d\" data-root-id=\"1028\"></div>\n",
       "</div>\n",
       "<script type=\"application/javascript\">(function(root) {\n",
       "  function embed_document(root) {\n",
       "    var docs_json = {\"ebc0eedc-483a-43dd-8513-d308b1baeaf1\":{\"defs\":[{\"extends\":null,\"module\":null,\"name\":\"ReactiveHTML1\",\"overrides\":[],\"properties\":[]},{\"extends\":null,\"module\":null,\"name\":\"FlexBox1\",\"overrides\":[],\"properties\":[{\"default\":\"flex-start\",\"kind\":null,\"name\":\"align_content\"},{\"default\":\"flex-start\",\"kind\":null,\"name\":\"align_items\"},{\"default\":\"row\",\"kind\":null,\"name\":\"flex_direction\"},{\"default\":\"wrap\",\"kind\":null,\"name\":\"flex_wrap\"},{\"default\":\"flex-start\",\"kind\":null,\"name\":\"justify_content\"}]},{\"extends\":null,\"module\":null,\"name\":\"TemplateActions1\",\"overrides\":[],\"properties\":[{\"default\":0,\"kind\":null,\"name\":\"open_modal\"},{\"default\":0,\"kind\":null,\"name\":\"close_modal\"}]},{\"extends\":null,\"module\":null,\"name\":\"MaterialTemplateActions1\",\"overrides\":[],\"properties\":[{\"default\":0,\"kind\":null,\"name\":\"open_modal\"},{\"default\":0,\"kind\":null,\"name\":\"close_modal\"}]}],\"roots\":{\"references\":[{\"attributes\":{\"client_comm_id\":\"4337b62280c34ad18bd146a77ff7a9b2\",\"comm_id\":\"f9c55c05101c4b63ab8c53f56c146b09\",\"plot_id\":\"1028\"},\"id\":\"1029\",\"type\":\"panel.models.comm_manager.CommManager\"},{\"attributes\":{},\"id\":\"1027\",\"type\":\"panel.models.vtk.VTKAxes\"},{\"attributes\":{\"arrays\":{\"2ebda7d3c6c3627ba233a85b7027cd58\":\"UEsDBBQAAAAIAM1hdlSBkDoDkwEAAAAEAAAlAAAAZGF0YS8yZWJkYTdkM2M2YzM2MjdiYTIzM2E4NWI3MDI3Y2Q1OHXTb0SdYRgH4E5/VllpSibJJBlJTERGJEZEjIgYETEiYmxEjIjYh4gYETEiYiJiIjISmUgmySRNaqo5Z53O2TXd077M6/r2vs9z37+fN5uTk83+lSCXPAoopJgSyiinkipqqKWeBppoppU2Ouikmx766GeQIUZ4wxjjTDLFDLPMs8ASy6yyxgabbLPDHvsccsQJp5xzwRVJUlyT5obMrUz2zg1pfpHkJ5f84IzvHPONA76yyxe2+Mw6n1jhI4t8YI73TPOOCd4yyiuGeckAL+jlOV08o52ntPCERh5TxyOqeUgFDyjlPkXcI588Evz/ScRb+fFVUZxSGqdWxC3VcWtdTNEYU7XElO0xdVds0RtbDcSWw7H1aKQwEalMR0pzkdpipLgSqa5HyluR+m60cBCtHEdLZ9HaZbSYilbT0fI/rWeyt25Ic02KJFdccM4pJxxxyD577LDNJhusscoySywwzywzTDHJOGO8ZoQhBumnjx666aSDNlpppokG6qmlhioqKaeMEooppIA8cknc/e5//AZQSwECFAMUAAAACADNYXZUgZA6A5MBAAAABAAAJQAAAAAAAAAAAAAAgAEAAAAAZGF0YS8yZWJkYTdkM2M2YzM2MjdiYTIzM2E4NWI3MDI3Y2Q1OFBLBQYAAAAAAQABAFMAAADWAQAAAAA=\",\"c34b4aa85f5e8cedbbaa09f99d86ed27\":\"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\",\"da0787b9256a15d2bb6237b9e7aa5d3e\":\"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\"},\"axes\":{\"id\":\"1027\"},\"margin\":[5,5,5,5],\"orientation_widget\":true,\"scene\":{\"calls\":[[\"addRenderer\",[\"instance:${b993da04-fecc-4f8a-8677-ce0dbadabee2000055602aca95f0}\"]],[\"addRenderer\",[\"instance:${b993da04-fecc-4f8a-8677-ce0dbadabee2000055602affc370}\"]],[\"addRenderer\",[\"instance:${b993da04-fecc-4f8a-8677-ce0dbadabee2000055602aff38f0}\"]]],\"dependencies\":[{\"calls\":[[\"setActiveCamera\",[\"instance:${00005560257c2410}\"]],[\"addViewProp\",[\"instance:${b993da04-fecc-4f8a-8677-ce0dbadabee2000055602afc15d0}\"]]],\"dependencies\":[{\"id\":\"00005560257c2410\",\"parent\":\"b993da04-fecc-4f8a-8677-ce0dbadabee2000055602aca95f0\",\"properties\":{\"clippingRange\":[1.2096009921331112,2.812017702607689],\"focalPoint\":[-0.00023000314831733704,-0.0032099932432174683,0.0],\"position\":[1.1065311032785785,1.1035511131836784,1.1067611064268958],\"viewUp\":[0.0,0.0,1.0]},\"type\":\"vtkOpenGLCamera\"},{\"calls\":[[\"setMapper\",[\"instance:${b993da04-fecc-4f8a-8677-ce0dbadabee2000055602afbf200}\"]],[\"setProperty\",[\"instance:${b993da04-fecc-4f8a-8677-ce0dbadabee2000055602afc1f20}\"]]],\"dependencies\":[{\"calls\":[[\"setInputData\",[\"instance:${b993da04-fecc-4f8a-8677-ce0dbadabee2000055602afbf200-dataset-0}\",0]],[\"setLookupTable\",[\"instance:${b993da04-fecc-4f8a-8677-ce0dbadabee2000055602afc0e70}\"]]],\"dependencies\":[{\"id\":\"b993da04-fecc-4f8a-8677-ce0dbadabee2000055602afbf200-dataset-0\",\"parent\":\"b993da04-fecc-4f8a-8677-ce0dbadabee2000055602afbf200\",\"properties\":{\"fields\":[],\"points\":{\"dataType\":\"Float32Array\",\"hash\":\"c34b4aa85f5e8cedbbaa09f99d86ed27\",\"name\":\"Points\",\"numberOfComponents\":3,\"ranges\":[{\"component\":null,\"max\":0.10352999716997147,\"min\":-0.10399000346660614},{\"component\":null,\"max\":0.4818600118160248,\"min\":-0.4882799983024597},{\"component\":null,\"max\":0.010160000063478947,\"min\":-0.010160000063478947},{\"component\":null,\"max\":0.49587070594943783,\"min\":0.004312980470281762}],\"size\":6756,\"vtkClass\":\"vtkPoints\"},\"verts\":{\"dataType\":\"Uint32Array\",\"hash\":\"da0787b9256a15d2bb6237b9e7aa5d3e\",\"name\":null,\"numberOfComponents\":1,\"ranges\":[{\"component\":null,\"max\":2251.0,\"min\":0.0}],\"size\":4504,\"vtkClass\":\"vtkCellArray\"}},\"type\":\"vtkPolyData\"},{\"arrays\":[{\"dataType\":\"Uint8Array\",\"hash\":\"2ebda7d3c6c3627ba233a85b7027cd58\",\"name\":null,\"numberOfComponents\":4,\"ranges\":[{\"component\":null,\"max\":255.0,\"min\":0.0},{\"component\":null,\"max\":255.0,\"min\":0.0},{\"component\":null,\"max\":255.0,\"min\":0.0},{\"component\":null,\"max\":255.0,\"min\":255.0},{\"component\":null,\"max\":441.0963613542964,\"min\":360.62445840513925}],\"registration\":\"setTable\",\"size\":1024,\"vtkClass\":\"vtkDataArray\"}],\"id\":\"b993da04-fecc-4f8a-8677-ce0dbadabee2000055602afc0e70\",\"parent\":\"b993da04-fecc-4f8a-8677-ce0dbadabee2000055602afbf200\",\"properties\":{\"aboveRangeColor\":[1.0,1.0,1.0,1.0],\"alpha\":1.0,\"belowRangeColor\":[0.0,0.0,0.0,1.0],\"hueRange\":[0.5,0],\"indexedLookup\":0,\"nanColor\":[0.5,0.0,0.0,1.0],\"numberOfColors\":256,\"range\":[0.0,1.0],\"saturationRange\":[1.0,1.0],\"useAboveRangeColor\":false,\"useBelowRangeColor\":false,\"valueRange\":[0.0,1.0],\"vectorComponent\":0,\"vectorMode\":1,\"vectorSize\":-1},\"type\":\"vtkLookupTable\"}],\"id\":\"b993da04-fecc-4f8a-8677-ce0dbadabee2000055602afbf200\",\"parent\":\"b993da04-fecc-4f8a-8677-ce0dbadabee2000055602afc15d0\",\"properties\":{\"arrayAccessMode\":1,\"colorByArrayName\":null,\"colorMode\":0,\"interpolateScalarsBeforeMapping\":1,\"renderTime\":0.0,\"resolveCoincidentTopology\":0,\"scalarMode\":5,\"scalarRange\":[0.0,1.0],\"scalarVisibility\":1,\"useLookupTableScalarRange\":0},\"type\":\"vtkDataSetMapper\"},{\"id\":\"b993da04-fecc-4f8a-8677-ce0dbadabee2000055602afc1f20\",\"parent\":\"b993da04-fecc-4f8a-8677-ce0dbadabee2000055602afc15d0\",\"properties\":{\"ambient\":0.0,\"ambientColor\":[1.0,1.0,1.0],\"backfaceCulling\":0,\"color\":[1.0,1.0,1.0],\"diffuse\":1.0,\"diffuseColor\":[1.0,1.0,1.0],\"edgeColor\":[0.0,0.0,0.0],\"edgeVisibility\":0,\"frontfaceCulling\":0,\"interpolation\":0,\"lighting\":1,\"lineWidth\":1.0,\"opacity\":1.0,\"pointSize\":5.0,\"representation\":2,\"specular\":0.0,\"specularColor\":[1.0,1.0,1.0],\"specularPower\":100.0},\"type\":\"vtkOpenGLProperty\"}],\"id\":\"b993da04-fecc-4f8a-8677-ce0dbadabee2000055602afc15d0\",\"parent\":\"b993da04-fecc-4f8a-8677-ce0dbadabee2000055602aca95f0\",\"properties\":{\"dragable\":1,\"forceOpaque\":false,\"forceTranslucent\":false,\"orientation\":[0.0,-0.0,0.0],\"origin\":[0.0,0.0,0.0],\"pickable\":1,\"position\":[0.0,0.0,0.0],\"scale\":[1.0,1.0,1.0],\"useBounds\":true,\"visibility\":1},\"type\":\"vtkOpenGLActor\"}],\"id\":\"b993da04-fecc-4f8a-8677-ce0dbadabee2000055602aca95f0\",\"parent\":\"b993da04-fecc-4f8a-8677-ce0dbadabee2000055602affaf70\",\"properties\":{\"background\":[0.3,0.3,0.3],\"background2\":[0.2,0.2,0.2],\"clippingRangeExpansion\":0.5,\"interactive\":1,\"layer\":0,\"lightFollowCamera\":1,\"maximumNumberOfPeels\":4,\"nearClippingPlaneTolerance\":0.001,\"occlusionRatio\":0.0,\"preserveColorBuffer\":0,\"preserveDepthBuffer\":0,\"twoSidedLighting\":1,\"useDepthPeeling\":0,\"useShadows\":0,\"viewport\":[0.0,0.0,1.0,1.0]},\"type\":\"vtkOpenGLRenderer\"},{\"calls\":[[\"setActiveCamera\",[\"instance:${0000556027c341d0}\"]]],\"dependencies\":[{\"id\":\"0000556027c341d0\",\"parent\":\"b993da04-fecc-4f8a-8677-ce0dbadabee2000055602affc370\",\"properties\":{\"clippingRange\":[0.01,1000.01],\"focalPoint\":[0.0,0.0,0.0],\"position\":[0.0,0.0,1.0],\"viewUp\":[0.0,1.0,0.0]},\"type\":\"vtkOpenGLCamera\"}],\"id\":\"b993da04-fecc-4f8a-8677-ce0dbadabee2000055602affc370\",\"parent\":\"b993da04-fecc-4f8a-8677-ce0dbadabee2000055602affaf70\",\"properties\":{\"background\":[0.3,0.3,0.3],\"background2\":[0.2,0.2,0.2],\"clippingRangeExpansion\":0.5,\"interactive\":0,\"layer\":1,\"lightFollowCamera\":1,\"maximumNumberOfPeels\":4,\"nearClippingPlaneTolerance\":0.0,\"occlusionRatio\":0.0,\"preserveColorBuffer\":1,\"preserveDepthBuffer\":0,\"twoSidedLighting\":1,\"useDepthPeeling\":0,\"useShadows\":0,\"viewport\":[0.0,0.0,1.0,1.0]},\"type\":\"vtkOpenGLRenderer\"},{\"calls\":[[\"setActiveCamera\",[\"instance:${000055602af9e5e0}\"]]],\"dependencies\":[{\"id\":\"000055602af9e5e0\",\"parent\":\"b993da04-fecc-4f8a-8677-ce0dbadabee2000055602aff38f0\",\"properties\":{\"clippingRange\":[3.1784280185413722,11.13129965931104],\"focalPoint\":[0.0,0.0,0.0],\"position\":[3.8637033051562732,3.8637033051562732,3.8637033051562732],\"viewUp\":[0.0,0.0,1.0]},\"type\":\"vtkOpenGLCamera\"}],\"id\":\"b993da04-fecc-4f8a-8677-ce0dbadabee2000055602aff38f0\",\"parent\":\"b993da04-fecc-4f8a-8677-ce0dbadabee2000055602affaf70\",\"properties\":{\"background\":[0.0,0.0,0.0],\"background2\":[0.2,0.2,0.2],\"clippingRangeExpansion\":0.5,\"interactive\":0,\"layer\":1,\"lightFollowCamera\":1,\"maximumNumberOfPeels\":4,\"nearClippingPlaneTolerance\":0.001,\"occlusionRatio\":0.0,\"preserveColorBuffer\":1,\"preserveDepthBuffer\":0,\"twoSidedLighting\":1,\"useDepthPeeling\":0,\"useShadows\":0,\"viewport\":[0.0,0.0,0.2,0.2]},\"type\":\"vtkOpenGLRenderer\"}],\"id\":\"b993da04-fecc-4f8a-8677-ce0dbadabee2000055602affaf70\",\"mtime\":105760,\"parent\":\"b993da04-fecc-4f8a-8677-ce0dbadabee20x0\",\"properties\":{\"numberOfLayers\":2},\"type\":\"vtkXOpenGLRenderWindow\"},\"sizing_mode\":\"stretch_width\"},\"id\":\"1028\",\"type\":\"panel.models.vtk.VTKSynchronizedPlot\"}],\"root_ids\":[\"1028\",\"1029\"]},\"title\":\"Bokeh Application\",\"version\":\"2.4.2\"}};\n",
       "    var render_items = [{\"docid\":\"ebc0eedc-483a-43dd-8513-d308b1baeaf1\",\"root_ids\":[\"1028\"],\"roots\":{\"1028\":\"cc12f1fa-2987-4758-ae3d-b07c9a12a20d\"}}];\n",
       "    root.Bokeh.embed.embed_items_notebook(docs_json, render_items);\n",
       "  }\n",
       "  if (root.Bokeh !== undefined && root.Bokeh.Panel !== undefined && ( root['vtk'] !== undefined)) {\n",
       "    embed_document(root);\n",
       "  } else {\n",
       "    var attempts = 0;\n",
       "    var timer = setInterval(function(root) {\n",
       "      if (root.Bokeh !== undefined && root.Bokeh.Panel !== undefined && (root['vtk'] !== undefined)) {\n",
       "        clearInterval(timer);\n",
       "        embed_document(root);\n",
       "      } else if (document.readyState == \"complete\") {\n",
       "        attempts++;\n",
       "        if (attempts > 200) {\n",
       "          clearInterval(timer);\n",
       "          console.log(\"Bokeh: ERROR: Unable to run BokehJS code because BokehJS library is missing\");\n",
       "        }\n",
       "      }\n",
       "    }, 25, root)\n",
       "  }\n",
       "})(window);</script>"
      ]
     },
     "metadata": {},
     "output_type": "display_data"
    }
   ],
   "source": [
    "# Point clouds data visualisation\n",
    "import pyvista as pv\n",
    "\n",
    "pcd = point_clouds[0].pos.cpu().detach().numpy()\n",
    "points = pv.PolyData(pcd)\n",
    "points.plot(jupyter_backend='panel')"
   ]
  },
  {
   "cell_type": "markdown",
   "metadata": {},
   "source": [
    "### Non-DL Computing (k Nearest Neighbor Clustering)"
   ]
  },
  {
   "cell_type": "code",
   "execution_count": null,
   "metadata": {},
   "outputs": [],
   "source": [
    "def pairwise_distance(x):\n",
    "    \"\"\"\n",
    "    Compute pairwise distance of data.\n",
    "    Args:\n",
    "        x: tensor (num_points, num_dims)\n",
    "    Returns:\n",
    "        nn_idx: (num_points, knn_idx)\n",
    "    \"\"\"\n",
    "    x_inner = -2*torch.matmul(x, x.transpose(1, 0))\n",
    "    x_square = torch.sum(torch.mul(x, x), dim=-1, keepdim=True)\n",
    "    return x_square + x_inner + x_square.transpose(1, 0)\n",
    "\n",
    "class Torch_KNN(nn.Module):\n",
    "    def __init__(self, k=9) -> None:\n",
    "        super(Torch_KNN, self).__init__()\n",
    "        self.k = k\n",
    "\n",
    "    def forward(self, x):\n",
    "        neg_adj = -pairwise_distance(x.detach())\n",
    "        _, nn_idx = torch.topk(neg_adj, k=self.k)\n",
    "        return nn_idx"
   ]
  },
  {
   "cell_type": "code",
   "execution_count": null,
   "metadata": {},
   "outputs": [],
   "source": [
    "rand_points = torch.rand(20000, 32)\n",
    "rand_points = rand_points.to(torch.device(device))\n",
    "\n",
    "knn = Torch_KNN(k=9)\n",
    "knn.to(torch.device(device))\n",
    "\n",
    "knn_ids = knn(rand_points)"
   ]
  },
  {
   "cell_type": "code",
   "execution_count": null,
   "metadata": {},
   "outputs": [],
   "source": [
    "knn_ids[0]"
   ]
  },
  {
   "cell_type": "code",
   "execution_count": null,
   "metadata": {},
   "outputs": [],
   "source": [
    "from sklearn.neighbors import NearestNeighbors\n",
    "nbrs = NearestNeighbors(n_neighbors=9, algorithm='brute').fit(rand_points.cpu().numpy())\n",
    "_, indices = nbrs.kneighbors(rand_points.cpu().numpy())"
   ]
  },
  {
   "cell_type": "code",
   "execution_count": null,
   "metadata": {},
   "outputs": [],
   "source": [
    "indices[0]"
   ]
  },
  {
   "cell_type": "markdown",
   "metadata": {},
   "source": []
  }
 ],
 "metadata": {
  "interpreter": {
   "hash": "231114be5c8ce4fca5b78cd18c0b00ec296b97d066e78dba2c2776ac8b8582a3"
  },
  "kernelspec": {
   "display_name": "Python 3.8.5 64-bit ('torch_graph': conda)",
   "language": "python",
   "name": "python3"
  },
  "language_info": {
   "codemirror_mode": {
    "name": "ipython",
    "version": 3
   },
   "file_extension": ".py",
   "mimetype": "text/x-python",
   "name": "python",
   "nbconvert_exporter": "python",
   "pygments_lexer": "ipython3",
   "version": "3.9.0"
  },
  "orig_nbformat": 4
 },
 "nbformat": 4,
 "nbformat_minor": 2
}
