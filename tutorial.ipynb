{
 "cells": [
  {
   "cell_type": "code",
   "execution_count": null,
   "metadata": {},
   "outputs": [],
   "source": [
    "import torch\n",
    "from torch.utils.data import Dataset, DataLoader\n",
    "from torchvision import datasets\n",
    "from torchvision.transforms import ToTensor"
   ]
  },
  {
   "cell_type": "markdown",
   "metadata": {},
   "source": [
    "### Dataset & DataLoader"
   ]
  },
  {
   "cell_type": "code",
   "execution_count": null,
   "metadata": {},
   "outputs": [],
   "source": [
    "# Image Dataset\n",
    "training_data = datasets.MNIST(\n",
    "    root='../dataset/',\n",
    "    train=True,\n",
    "    download=True,\n",
    "    transform=ToTensor()\n",
    ")\n",
    "\n",
    "testing_data = datasets.MNIST(\n",
    "    root='../dataset/',\n",
    "    train=False,\n",
    "    download=True,\n",
    "    transform=ToTensor()\n",
    ")"
   ]
  },
  {
   "cell_type": "code",
   "execution_count": null,
   "metadata": {},
   "outputs": [],
   "source": [
    "import matplotlib.pyplot as plt\n",
    "\n",
    "img, label = training_data[0]\n",
    "plt.imshow(img.squeeze().numpy(), cmap=\"gray\")\n",
    "plt.show()"
   ]
  },
  {
   "cell_type": "code",
   "execution_count": null,
   "metadata": {},
   "outputs": [],
   "source": [
    "# Custom Dataset\n",
    "class CustomDataset(Dataset):\n",
    "    def __init__(self, data_dir, labels, transform=None, target_transform=None) -> None:\n",
    "        self.data = data_dir\n",
    "        self.labels = labels\n",
    "        self.transform = transform\n",
    "        self.target_transform = target_transform\n",
    "\n",
    "    def __len__(self):\n",
    "        \"\"\"Return the number of samples in the custom dataset.\"\"\"\n",
    "        return len(self.labels)\n",
    "\n",
    "    def __getitem__(self, idx):\n",
    "        \"\"\"Loda and return a data sample from the custom dataset at given index.\"\"\"\n",
    "        data = self.data[idx]\n",
    "        label = self.labels[idx]\n",
    "\n",
    "        if self.transform:\n",
    "            data = self.transform(data)\n",
    "        if self.target_transform:\n",
    "            label = self.target_transform(label)\n",
    "        return data, label"
   ]
  },
  {
   "cell_type": "code",
   "execution_count": null,
   "metadata": {},
   "outputs": [],
   "source": [
    "# We can load the train and test dataset into dataloaders \n",
    "# so that we can retrive data samples and interate through \n",
    "# the dataset in a batch/mini-batch manner. \n",
    "train_loader = DataLoader(training_data, batch_size=128, shuffle=True)\n",
    "test_loader = DataLoader(testing_data, batch_size=128, shuffle=True)"
   ]
  },
  {
   "cell_type": "markdown",
   "metadata": {},
   "source": [
    "### Model"
   ]
  },
  {
   "cell_type": "code",
   "execution_count": null,
   "metadata": {},
   "outputs": [],
   "source": [
    "from torch import nn\n",
    "import torch.nn.functional as F"
   ]
  },
  {
   "cell_type": "code",
   "execution_count": null,
   "metadata": {},
   "outputs": [],
   "source": [
    "class CNN(nn.Module):\n",
    "    def __init__(self):\n",
    "        super(CNN, self).__init__()\n",
    "        self.conv = nn.Sequential(\n",
    "            nn.Conv2d(in_channels=1, out_channels=32, kernel_size=(3,3), stride=(1,1)),\n",
    "            nn.BatchNorm2d(32),\n",
    "            nn.ReLU(), \n",
    "            nn.Conv2d(in_channels=32, out_channels=64, kernel_size=(3,3), stride=(1,1)),\n",
    "            nn.BatchNorm2d(64),\n",
    "            nn.ReLU()\n",
    "        )\n",
    "        self.dp1 = nn.Dropout2d(0.25)\n",
    "        self.dp2 = nn.Dropout2d(0.5)\n",
    "        self.fc1 = nn.Linear(9216, 128)\n",
    "        self.fc2 = nn.Linear(128, 10)\n",
    "\n",
    "    def forward(self, x):\n",
    "        x = self.conv(x)\n",
    "        x = F.max_pool2d(x, 2)\n",
    "\n",
    "        x = self.dp1(x)\n",
    "        x = torch.flatten(x, 1)\n",
    "\n",
    "        x = self.fc1(x)\n",
    "        x = F.relu(x)\n",
    "        x = self.dp2(x)\n",
    "        x = self.fc2(x)\n",
    "        return x "
   ]
  },
  {
   "cell_type": "markdown",
   "metadata": {},
   "source": [
    "### Trainval"
   ]
  },
  {
   "cell_type": "code",
   "execution_count": null,
   "metadata": {},
   "outputs": [],
   "source": [
    "## Enable GPU via cuda\n",
    "device = 'cuda' if torch.cuda.is_available() else 'cpu'\n",
    "\n",
    "def build_model(nn):\n",
    "    model = nn\n",
    "    model.to(torch.device(device))\n",
    "\n",
    "    criterion = torch.nn.CrossEntropyLoss()\n",
    "    optimizer = torch.optim.SGD(model.parameters(), lr=0.01)\n",
    "\n",
    "    return model, criterion, optimizer\n",
    "\n",
    "\n",
    "def train(loader, model, criterion, optimizer):\n",
    "    model.train()\n",
    "    training_loss = 0.0\n",
    "    for idx, data in enumerate(loader):\n",
    "        optimizer.zero_grad()    # Clear gradients\n",
    "\n",
    "        x = data[0].to(torch.device(device))\n",
    "        y = data[1].to(torch.device(device))\n",
    "        \n",
    "        logits = model(x)             # Feedforward\n",
    "        loss = criterion(logits, y)   # Compute gradients\n",
    "\n",
    "        loss.backward()          # Backward pass\n",
    "        optimizer.step()         # Update model parametersss\n",
    "\n",
    "        training_loss += loss.item()\n",
    "    return training_loss\n",
    "\n",
    "\n",
    "@torch.no_grad()\n",
    "def validation(loader, model, criterion):\n",
    "    model.eval()\n",
    "    for idx, data in enumerate(loader):\n",
    "        x = data[0].to(torch.device(device))\n",
    "        y = data[1].to(torch.device(device))\n",
    "\n",
    "        logits = model(x)\n",
    "        loss = criterion(logits, y)  \n"
   ]
  },
  {
   "cell_type": "code",
   "execution_count": null,
   "metadata": {},
   "outputs": [],
   "source": [
    "from torch.utils.tensorboard import SummaryWriter\n",
    "\n",
    "EPOCH = 20\n",
    "model, criterion, optimizer = build_model(CNN())\n",
    "writer = SummaryWriter('experiment/mnist_cnn')\n",
    "for epoch in range(1, EPOCH+1):\n",
    "    # Training & Validation\n",
    "    cumulative_loss = train(train_loader, model, criterion, optimizer)\n",
    "    writer.add_scalar('training_loss at each epoch', \n",
    "                       cumulative_loss / len(train_loader), \n",
    "                       epoch)\n",
    "    validation(test_loader, model, criterion)"
   ]
  },
  {
   "cell_type": "markdown",
   "metadata": {},
   "source": [
    "### Point Clouds Data Processing"
   ]
  },
  {
   "cell_type": "code",
   "execution_count": null,
   "metadata": {},
   "outputs": [],
   "source": [
    "from torch_geometric.datasets import ShapeNet\n",
    "# Loda shapenet dataset\n",
    "point_clouds = ShapeNet(root='../dataset/shapenet', split='trainval')\n",
    "# Data information\n",
    "print(point_clouds)\n",
    "print(point_clouds[0])"
   ]
  },
  {
   "cell_type": "code",
   "execution_count": null,
   "metadata": {},
   "outputs": [],
   "source": [
    "# Point clouds data visualisation\n",
    "import pyvista as pv\n",
    "\n",
    "pcd = point_clouds[0].pos.cpu().detach().numpy()\n",
    "points = pv.PolyData(pcd)\n",
    "points.plot(jupyter_backend='panel')"
   ]
  },
  {
   "cell_type": "markdown",
   "metadata": {},
   "source": [
    "### Non-DL Computing (k Nearest Neighbor Clustering)"
   ]
  },
  {
   "cell_type": "code",
   "execution_count": null,
   "metadata": {},
   "outputs": [],
   "source": [
    "def pairwise_distance(x):\n",
    "    \"\"\"\n",
    "    Compute pairwise distance of data.\n",
    "    Args:\n",
    "        x: tensor (num_points, num_dims)\n",
    "    Returns:\n",
    "        nn_idx: (num_points, knn_idx)\n",
    "    \"\"\"\n",
    "    x_inner = -2*torch.matmul(x, x.transpose(1, 0))\n",
    "    x_square = torch.sum(torch.mul(x, x), dim=-1, keepdim=True)\n",
    "    return x_square + x_inner + x_square.transpose(1, 0)\n",
    "\n",
    "class Torch_KNN(nn.Module):\n",
    "    def __init__(self, k=9) -> None:\n",
    "        super(Torch_KNN, self).__init__()\n",
    "        self.k = k\n",
    "\n",
    "    def forward(self, x):\n",
    "        neg_adj = -pairwise_distance(x.detach())\n",
    "        _, nn_idx = torch.topk(neg_adj, k=self.k)\n",
    "        return nn_idx"
   ]
  },
  {
   "cell_type": "code",
   "execution_count": null,
   "metadata": {},
   "outputs": [],
   "source": [
    "rand_points = torch.rand(20000, 32)\n",
    "rand_points = rand_points.to(torch.device(device))\n",
    "\n",
    "knn = Torch_KNN(k=9)\n",
    "knn.to(torch.device(device))\n",
    "\n",
    "knn_ids = knn(rand_points)"
   ]
  },
  {
   "cell_type": "code",
   "execution_count": null,
   "metadata": {},
   "outputs": [],
   "source": [
    "knn_ids[0]"
   ]
  },
  {
   "cell_type": "code",
   "execution_count": null,
   "metadata": {},
   "outputs": [],
   "source": [
    "from sklearn.neighbors import NearestNeighbors\n",
    "nbrs = NearestNeighbors(n_neighbors=9, algorithm='brute').fit(rand_points.cpu().numpy())\n",
    "_, indices = nbrs.kneighbors(rand_points.cpu().numpy())"
   ]
  },
  {
   "cell_type": "code",
   "execution_count": null,
   "metadata": {},
   "outputs": [],
   "source": [
    "indices[0]"
   ]
  },
  {
   "cell_type": "markdown",
   "metadata": {},
   "source": []
  }
 ],
 "metadata": {
  "interpreter": {
   "hash": "231114be5c8ce4fca5b78cd18c0b00ec296b97d066e78dba2c2776ac8b8582a3"
  },
  "kernelspec": {
   "display_name": "Python 3.8.5 64-bit ('torch_graph': conda)",
   "language": "python",
   "name": "python3"
  },
  "language_info": {
   "codemirror_mode": {
    "name": "ipython",
    "version": 3
   },
   "file_extension": ".py",
   "mimetype": "text/x-python",
   "name": "python",
   "nbconvert_exporter": "python",
   "pygments_lexer": "ipython3",
   "version": "3.9.0"
  },
  "orig_nbformat": 4
 },
 "nbformat": 4,
 "nbformat_minor": 2
}
